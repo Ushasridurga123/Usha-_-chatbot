{
 "cells": [
  {
   "cell_type": "code",
   "execution_count": null,
   "id": "408cac6c",
   "metadata": {},
   "outputs": [
    {
     "name": "stdout",
     "output_type": "stream",
     "text": [
      "You: hello\n",
      "Bot: I'm not sure how to respond to that.\n",
      "You: hi\n",
      "Bot: Hello!\n",
      "You: how are you\n",
      "Bot: I'm good, thanks!\n",
      "You: bye\n",
      "Bot: Bye!\n"
     ]
    }
   ],
   "source": [
    "import random\n",
    "\n",
    "# Define responses\n",
    "responses = {\n",
    "    \"hi\": [\"Hello!\", \"Hi there!\", \"Hey!\"],\n",
    "    \"how are you\": [\"I'm good, thanks!\", \"Doing well, how about you?\", \"Pretty good, thanks for asking!\"],\n",
    "    \"bye\": [\"Goodbye!\", \"See you later!\", \"Bye!\"]\n",
    "}\n",
    "\n",
    "def respond(message):\n",
    "    message = message.lower()\n",
    "    if message in responses:\n",
    "        return random.choice(responses[message])\n",
    "    else:\n",
    "        return \"I'm not sure how to respond to that.\"\n",
    "\n",
    "# Example usage\n",
    "while True:\n",
    "    user_input = input(\"You: \")\n",
    "    if user_input.lower() == 'exit':\n",
    "        break\n",
    "    else:\n",
    "        print(\"Bot:\", respond(user_input))"
   ]
  },
  {
   "cell_type": "code",
   "execution_count": null,
   "id": "30842b8b",
   "metadata": {},
   "outputs": [],
   "source": []
  }
 ],
 "metadata": {
  "kernelspec": {
   "display_name": "Python 3 (ipykernel)",
   "language": "python",
   "name": "python3"
  },
  "language_info": {
   "codemirror_mode": {
    "name": "ipython",
    "version": 3
   },
   "file_extension": ".py",
   "mimetype": "text/x-python",
   "name": "python",
   "nbconvert_exporter": "python",
   "pygments_lexer": "ipython3",
   "version": "3.11.5"
  }
 },
 "nbformat": 4,
 "nbformat_minor": 5
}
